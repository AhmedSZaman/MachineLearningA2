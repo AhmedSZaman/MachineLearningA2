{
 "cells": [
  {
   "cell_type": "code",
   "execution_count": null,
   "id": "df4f463d",
   "metadata": {},
   "outputs": [],
   "source": [
    "import gym\n",
    "from gym import spaces\n",
    "import numpy as np\n",
    "\n",
    "class TrafficGenerator(gym.Env):\n",
    "    \n",
    "    #doesnt really workj\n",
    "    def getObs(self):\n",
    "        # Loop over the packet types\n",
    "        for i in range(len(self.mean_delay)):\n",
    "\n",
    "            # Get the current queue for the packet type\n",
    "            current_queue = self.queues[i]\n",
    "\n",
    "            # Calculate the length and average waiting time of the current queue\n",
    "            current_length = len(current_queue)\n",
    "            current_waiting_time = np.average(current_queue) if current_length > 0 else 0.0\n",
    "            #print(np.average(current_queue), current_length, current_waiting_time )\n",
    "            \n",
    "            \n",
    "           \n",
    "            observation.append([current_length, current_waiting_time])\n",
    "\n",
    "       \n",
    "        observation = np.array(observation)\n",
    "        return observation\n",
    "    \n",
    "    def __init__(self):\n",
    "        \n",
    "        self.action_space = spaces.Discrete(3)\n",
    "        \n",
    "        # Define the observation space (number of packets in each queue and their waiting time)\n",
    "        self.observation_space = spaces.Box(low=0, high=np.inf, shape=(3,2), dtype=int)\n",
    "        \n",
    "        # pancket info (DataType, arrival_rate, mean_delay )\n",
    "        #self.packetInfo = [[0, 0.3, 6],[1, 0.25, 4],[2, 0.4, float('inf')]]\n",
    "        \n",
    "        self.dataType = [0, 1, 2]\n",
    "        self.arrival_rate = [0.6, 0.5, 0.4]\n",
    "        self.mean_delay_req = [6, 4, float('inf')]\n",
    "        self.packetInfo = [[elem1, elem2, elem3] for elem1, elem2, elem3 in zip(self.dataType, self.arrival_rate, self.mean_delay_req)]\n",
    "        self.curr_mean_delay_best_effort = 0\n",
    "        self.packet = 1\n",
    "        self.timeslot = 1\n",
    "        self.totaltime = self.timeslot\n",
    "        \n",
    "        # Initialize the queues\n",
    "        self.queues = [[], [], []]\n",
    "      \n",
    "    \n",
    "    def step(self, action):  \n",
    "        self.totaltime += self.timeslot\n",
    "        print(self.totaltime)\n",
    "        #packet generator\n",
    "        for i in range(len(self.packetInfo)):\n",
    "            for sublist in self.packetInfo:\n",
    "                if sublist[0] == i and np.random.uniform() < sublist[1]:\n",
    "                    self.queues[i].append(self.packet)\n",
    "                    #print(\"Appending to queue\", i)\n",
    "        \n",
    "        for i in range(len(self.queues)):\n",
    "            for j in range(len(self.queues[i])):\n",
    "                self.queues[i][j] -= self.timeslot\n",
    "                \n",
    "        \n",
    "        # services the queues\n",
    "        #for i in range(len(self.queues)):\n",
    "            #print(\"queue \", i, \": has a length of\", len(self.queues[i]))\n",
    "        #print(\"ACTION queue \", action, \": has a length of\", len(self.queues[action]))\n",
    "        if action < 3 and len(self.queues[action]) > 0:\n",
    "            self.queues[action].pop(0)\n",
    "            for i in range(len(self.queues[action])):\n",
    "                self.queues[action][i] -= 1\n",
    "        \n",
    "\n",
    "        \n",
    "        #TODO rewardoptions?\n",
    "        reward = 1\n",
    "        \n",
    "        observation = []\n",
    "        for i in range(len(self.mean_delay_req)):\n",
    "\n",
    "            # Get the current queue for the packet type\n",
    "            current_queue = self.queues[i]\n",
    "\n",
    "            # Calculate the length and average waiting time of the current queue\n",
    "            current_length = len(current_queue)\n",
    "            current_waiting_time = np.average(current_queue) if current_length > 0 else 0.0\n",
    "            #print(np.average(current_queue), current_length, current_waiting_time )\n",
    "            \n",
    "    \n",
    "            observation.append([current_length, current_waiting_time])\n",
    "            if i == 2:\n",
    "                #reward option\n",
    "                if self.curr_mean_delay_best_effort == 0:\n",
    "                    curr_mean_delay_best_effort = current_waiting_time\n",
    "                if self.curr_mean_delay_best_effort < current_waiting_time:\n",
    "                    self.curr_mean_delay_best_effort = current_waiting_time\n",
    "                    reward = 1\n",
    "                elif self.curr_mean_delay_best_effort > current_waiting_time:\n",
    "                    self.curr_mean_delay_best_effort = current_waiting_time\n",
    "                    reward = -1\n",
    "                else:\n",
    "                    reward = 1\n",
    "        \n",
    "                #print(self.curr_mean_delay_best_effort)\n",
    "                #print(current_waiting_time)\n",
    "        print(f\"observation{observation}\")\n",
    "        if observation[0][1] < -4:\n",
    "            reward = -10\n",
    "        elif observation[1][1] < -6:\n",
    "            reward = -10\n",
    "        observation = np.array(observation)\n",
    "\n",
    "         # Loop over the packet types\n",
    "        \"\"\"\n",
    "        observation = []\n",
    "        for i in range(len(self.mean_delay)):\n",
    "\n",
    "            # Get the current queue for the packet type\n",
    "            current_queue = self.queues[i]\n",
    "\n",
    "            # Calculate the length and average waiting time of the current queue\n",
    "            current_length = len(current_queue)\n",
    "            current_waiting_time = np.average(current_queue) if current_length > 0 else 0.0\n",
    "            #print(np.average(current_queue), current_length, current_waiting_time )\n",
    "            \n",
    "            \n",
    "    \n",
    "            observation.append([current_length, current_waiting_time])\n",
    "\n",
    "        observation = np.array(observation)\n",
    "        \"\"\"\n",
    "        info = {\"mean_delay_0\": self.mean_delay_req[0],\n",
    "        \"mean_delay_1\": self.mean_delay_req[1],\n",
    "        \"mean_delay_2\": self.mean_delay_req[2],\n",
    "        \"arrival_rate_0\": self.arrival_rate[0],\n",
    "        \"arrival_rate_1\": self.arrival_rate[1],\n",
    "        \"arrival_rate_2\": self.arrival_rate[2]}\n",
    "        done = len(self.queues[0]) + len(self.queues[1]) + len(self.queues[2]) == 0 or (self.totaltime >= 100)\n",
    "        return observation, reward, done, info\n",
    "        \n",
    "    def reset(self):\n",
    "        # Reset the queues\n",
    "        self.queues = [[], [], []]\n",
    "        return np.array([[len(self.queues[i]), 0.0] for i in range(len(self.mean_delay_req))])\n",
    "        \n",
    "    def render(self):\n",
    "        pass"
   ]
  },
  {
   "cell_type": "code",
   "execution_count": null,
   "id": "0e03171b",
   "metadata": {},
   "outputs": [],
   "source": [
    "env = TrafficGenerator()\n",
    "obs = env.reset()\n",
    "done = False\n",
    "x = 0\n",
    "while x < 100:\n",
    "    print(\"~~~~~~~~~\")\n",
    "    print(obs[:, 0])\n",
    "    \n",
    "    if obs[:, 0][0] > 0 or obs[:, 0][1] > 0:\n",
    "        action = np.argmax(obs[:2, 0])\n",
    "    else:\n",
    "        action = 2 \n",
    "    \n",
    "    print(\"chosen\", action)\n",
    "    obs,reward, done, info = env.step(action)\n",
    "    print(\"reward\", reward)\n",
    "    \n",
    "    x = x +1"
   ]
  },
  {
   "cell_type": "markdown",
   "id": "fd905ec0",
   "metadata": {},
   "source": [
    "# Training the DQN agent dude"
   ]
  },
  {
   "cell_type": "code",
   "execution_count": null,
   "id": "6875fb6e",
   "metadata": {},
   "outputs": [],
   "source": [
    "import numpy as np\n",
    "from tensorflow.keras.models import Sequential\n",
    "from tensorflow.keras.layers import Dense, Flatten\n",
    "from tensorflow.keras.optimizers import Adam\n",
    "\n",
    "from rl.agents import DQNAgent\n",
    "from rl.policy import BoltzmannQPolicy\n",
    "from rl.memory import SequentialMemory"
   ]
  },
  {
   "cell_type": "code",
   "execution_count": null,
   "id": "1924fa13",
   "metadata": {},
   "outputs": [],
   "source": [
    "#states = env.observation_space.shape\n",
    "states = (1,3,2)\n",
    "actions = env.action_space.n"
   ]
  },
  {
   "cell_type": "code",
   "execution_count": null,
   "id": "93aa9ae2",
   "metadata": {},
   "outputs": [],
   "source": [
    "def build_model(states, actions):\n",
    "    model = Sequential() \n",
    "    model.add(Flatten(input_shape=states))\n",
    "    model.add(Dense(24, activation='relu'))\n",
    "    model.add(Dense(24, activation='relu'))\n",
    "    model.add(Dense(actions, activation='linear'))\n",
    "    model.compile(optimizer=Adam(), loss='mse')\n",
    "    print(states)\n",
    "    \n",
    "    return model"
   ]
  },
  {
   "cell_type": "code",
   "execution_count": null,
   "id": "ef5559f9",
   "metadata": {},
   "outputs": [],
   "source": [
    "model = build_model(states, actions)\n"
   ]
  },
  {
   "cell_type": "code",
   "execution_count": null,
   "id": "b1ed7cd5",
   "metadata": {},
   "outputs": [],
   "source": [
    "states"
   ]
  },
  {
   "cell_type": "code",
   "execution_count": null,
   "id": "381a8425",
   "metadata": {},
   "outputs": [],
   "source": [
    "actions"
   ]
  },
  {
   "cell_type": "code",
   "execution_count": null,
   "id": "a13f7749",
   "metadata": {},
   "outputs": [],
   "source": []
  },
  {
   "cell_type": "code",
   "execution_count": null,
   "id": "4824e3bf",
   "metadata": {},
   "outputs": [],
   "source": [
    "def build_agent(model, actions, states):\n",
    "    policy = BoltzmannQPolicy()\n",
    "    memory = SequentialMemory(limit=50000, window_length=1)\n",
    "    dqn = DQNAgent(model=model, memory=memory, policy=policy, nb_actions=actions, nb_steps_warmup=10, target_model_update=1e-2)\n",
    "    return dqn"
   ]
  },
  {
   "cell_type": "code",
   "execution_count": null,
   "id": "4c601b68",
   "metadata": {},
   "outputs": [],
   "source": [
    "import tensorflow as tf\n",
    "import keras\n",
    "print(\"TensorFlow version:\", tf.__version__)\n",
    "print(\"Keras version:\", keras.__version__)"
   ]
  },
  {
   "cell_type": "code",
   "execution_count": null,
   "id": "2e8ddd20",
   "metadata": {},
   "outputs": [],
   "source": [
    "\n"
   ]
  },
  {
   "cell_type": "code",
   "execution_count": null,
   "id": "76ce2091",
   "metadata": {},
   "outputs": [],
   "source": [
    "optimizer = Adam(learning_rate=1e-3)\n",
    "Adam._name = \"adam\"\n",
    "dqn = build_agent(model, actions, states)\n",
    "dqn.compile(optimizer, metrics=['mae'])\n",
    "dqn.fit(env, nb_steps=1000, visualize=False, verbose=1)"
   ]
  },
  {
   "cell_type": "code",
   "execution_count": null,
   "id": "783c72ba",
   "metadata": {},
   "outputs": [],
   "source": [
    "scores = dqn.test(env, nb_episodes=100, visualize=False)\n",
    "print(np.mean(scores.history['episode_reward']))"
   ]
  },
  {
   "cell_type": "code",
   "execution_count": null,
   "id": "84198316",
   "metadata": {},
   "outputs": [],
   "source": [
    "print(states)\n"
   ]
  },
  {
   "cell_type": "code",
   "execution_count": null,
   "id": "6e864c88",
   "metadata": {},
   "outputs": [],
   "source": [
    "model.summary()"
   ]
  },
  {
   "cell_type": "code",
   "execution_count": null,
   "id": "3bd1a94f",
   "metadata": {},
   "outputs": [],
   "source": [
    "print('State space: ', env.observation_space)\n",
    "print('Action space: ', env.action_space)"
   ]
  },
  {
   "cell_type": "code",
   "execution_count": null,
   "id": "e6288c03",
   "metadata": {},
   "outputs": [],
   "source": [
    "print('State space Low: ', env.observation_space.low)\n",
    "print('State space High: ', env.observation_space.high)\n"
   ]
  },
  {
   "cell_type": "code",
   "execution_count": null,
   "id": "e79402aa",
   "metadata": {},
   "outputs": [],
   "source": []
  }
 ],
 "metadata": {
  "kernelspec": {
   "display_name": "Python 3 (ipykernel)",
   "language": "python",
   "name": "python3"
  },
  "language_info": {
   "codemirror_mode": {
    "name": "ipython",
    "version": 3
   },
   "file_extension": ".py",
   "mimetype": "text/x-python",
   "name": "python",
   "nbconvert_exporter": "python",
   "pygments_lexer": "ipython3",
   "version": "3.9.12"
  }
 },
 "nbformat": 4,
 "nbformat_minor": 5
}
